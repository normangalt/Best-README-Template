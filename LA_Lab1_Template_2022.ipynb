{
  "nbformat": 4,
  "nbformat_minor": 0,
  "metadata": {
    "colab": {
      "name": "LA Lab1 Template 2022",
      "provenance": [],
      "collapsed_sections": [],
      "include_colab_link": true
    },
    "kernelspec": {
      "name": "python3",
      "display_name": "Python 3"
    }
  },
  "cells": [
    {
      "cell_type": "markdown",
      "metadata": {
        "id": "view-in-github",
        "colab_type": "text"
      },
      "source": [
        "<a href=\"https://colab.research.google.com/github/normangalt/Best-README-Template/blob/master/LA_Lab1_Template_2022.ipynb\" target=\"_parent\"><img src=\"https://colab.research.google.com/assets/colab-badge.svg\" alt=\"Open In Colab\"/></a>"
      ]
    },
    {
      "cell_type": "code",
      "metadata": {
        "id": "G3c5W78LLPE9"
      },
      "source": [
        "import numpy as np\n",
        "import cv2 as cv\n",
        "from google.colab.patches import cv2_imshow\n",
        "import matplotlib.pyplot as plt\n",
        "%matplotlib inline"
      ],
      "execution_count": 1,
      "outputs": []
    },
    {
      "cell_type": "markdown",
      "metadata": {
        "id": "6ZTjXcNBBChb"
      },
      "source": [
        "## Intro\n",
        "\n",
        "1. Submit this task as a link to Google Colab (https://colab.research.google.com/notebooks/intro.ipynb#). Make sure you made a copy of this notebook and opened it via UCU domain.\n",
        "\n",
        "2. Please use cv2 standard methods for reading and resizing image, and matplotlib or cv2 imshow function for displaying.\n",
        "\n",
        "3. Form teams of 2-3 people and make only one submission per team. Mention all teammates in the name of the notebook.\n",
        "\n",
        "4. Your final grade will be a product of grade for the coding and explanatory part and coefficient for the oral defense (to be scheduled later)."
      ]
    },
    {
      "cell_type": "markdown",
      "source": [
        "## 1."
      ],
      "metadata": {
        "id": "ZAbBesnkV0LE"
      }
    },
    {
      "cell_type": "markdown",
      "source": [
        "Recall that a linear transformation is a mapping $T: \\mathbb{R}^n \\rightarrow \\mathbb{R}^m$ such that\n",
        "$\\forall c_1, c_2 \\in \\mathbb{R}, \\mathbf{u}_1, \\mathbf{u}_2 \\in \\mathbb{R}^n$  \n",
        "$T(c_1 \\mathbf{u}_1 + c_2 \\mathbf{u}_2) = c_1T(\\mathbf{u}_1) + c_2T(\\mathbf{u}_2)$.  \n",
        "\n",
        "In this lab you will study some of the common transformations in $\\mathbb{R}^2$, derive their general matrix form, explain what a resulting image will look like and apply transformations to the vectors and pictures.\n",
        "\n",
        "Each linear transformation can be represented as a matrix. In case of an image linear transformation is applied to a pixel position on xy-plane, transforming its coordinates $(x, y)$ to $(x', y')$, but retaining the color. However, the image is usually represented as an array of pixels, thus having dimensions (image height, image width, 3) if color is represented in RGB system. You can use *warpAffine()* function from cv2 or implement a function that manipulates pixel's position given an array of pixels and a transformation matrix yourself."
      ],
      "metadata": {
        "id": "2iL53P4eV295"
      }
    },
    {
      "cell_type": "markdown",
      "source": [
        "### 1.1 Image preparation"
      ],
      "metadata": {
        "id": "SIuMuquUWYqQ"
      }
    },
    {
      "cell_type": "markdown",
      "source": [
        "Load the first image, resize it to more convenient size and examine its representation."
      ],
      "metadata": {
        "id": "rjPrK_-WWcF5"
      }
    },
    {
      "cell_type": "code",
      "metadata": {
        "id": "qyf4khqn5DbZ",
        "outputId": "978d4a36-3c4f-4265-aa83-0cd90d486462",
        "colab": {
          "base_uri": "https://localhost:8080/",
          "height": 237
        }
      },
      "source": [
        "# Load images\n",
        "\n",
        "##### YOUR CODE STARTS #####\n",
        "\n",
        "img1_path = '...'\n",
        "image = cv.imread(img1_path)\n",
        "resized = cv.resize(image, (500,500))\n",
        "\n",
        "print(f\"The shape of the image is {...}\")\n",
        "cv2_imshow(resized)\n",
        "\n",
        "##### YOUR CODE ENDS ##### "
      ],
      "execution_count": 2,
      "outputs": [
        {
          "output_type": "error",
          "ename": "error",
          "evalue": "ignored",
          "traceback": [
            "\u001b[0;31m---------------------------------------------------------------------------\u001b[0m",
            "\u001b[0;31merror\u001b[0m                                     Traceback (most recent call last)",
            "\u001b[0;32m<ipython-input-2-5dcdc84882a4>\u001b[0m in \u001b[0;36m<module>\u001b[0;34m()\u001b[0m\n\u001b[1;32m      5\u001b[0m \u001b[0mimg1_path\u001b[0m \u001b[0;34m=\u001b[0m \u001b[0;34m'...'\u001b[0m\u001b[0;34m\u001b[0m\u001b[0;34m\u001b[0m\u001b[0m\n\u001b[1;32m      6\u001b[0m \u001b[0mimage\u001b[0m \u001b[0;34m=\u001b[0m \u001b[0mcv\u001b[0m\u001b[0;34m.\u001b[0m\u001b[0mimread\u001b[0m\u001b[0;34m(\u001b[0m\u001b[0mimg1_path\u001b[0m\u001b[0;34m)\u001b[0m\u001b[0;34m\u001b[0m\u001b[0;34m\u001b[0m\u001b[0m\n\u001b[0;32m----> 7\u001b[0;31m \u001b[0mresized\u001b[0m \u001b[0;34m=\u001b[0m \u001b[0mcv\u001b[0m\u001b[0;34m.\u001b[0m\u001b[0mresize\u001b[0m\u001b[0;34m(\u001b[0m\u001b[0mimage\u001b[0m\u001b[0;34m,\u001b[0m \u001b[0;34m(\u001b[0m\u001b[0;36m500\u001b[0m\u001b[0;34m,\u001b[0m\u001b[0;36m500\u001b[0m\u001b[0;34m)\u001b[0m\u001b[0;34m)\u001b[0m\u001b[0;34m\u001b[0m\u001b[0;34m\u001b[0m\u001b[0m\n\u001b[0m\u001b[1;32m      8\u001b[0m \u001b[0;34m\u001b[0m\u001b[0m\n\u001b[1;32m      9\u001b[0m \u001b[0mprint\u001b[0m\u001b[0;34m(\u001b[0m\u001b[0;34mf\"The shape of the image is {...}\"\u001b[0m\u001b[0;34m)\u001b[0m\u001b[0;34m\u001b[0m\u001b[0;34m\u001b[0m\u001b[0m\n",
            "\u001b[0;31merror\u001b[0m: OpenCV(4.1.2) /io/opencv/modules/imgproc/src/resize.cpp:3720: error: (-215:Assertion failed) !ssize.empty() in function 'resize'\n"
          ]
        }
      ]
    },
    {
      "cell_type": "markdown",
      "source": [
        " What is its shape? What do the values mean?"
      ],
      "metadata": {
        "id": "cBjR3oYFWgZs"
      }
    },
    {
      "cell_type": "markdown",
      "source": [
        "*(Your answer is here)*"
      ],
      "metadata": {
        "id": "gQ_3cJDqYLX-"
      }
    },
    {
      "cell_type": "markdown",
      "metadata": {
        "id": "eDJKSxoRAkpY"
      },
      "source": [
        "### 1.2 Rotation matrix\n",
        "\n",
        "Rotation is a linear transformation that preseves at least one point. An example of rotation by angle $\\psi$ on xy-plane is depicted in the image below:   \n",
        "![Image 1.png](data:image/png;base64,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)"
      ]
    },
    {
      "cell_type": "markdown",
      "source": [
        "What is the rotation matrix by a generic angle $\\phi$?"
      ],
      "metadata": {
        "id": "Sd6uaUobYHJv"
      }
    },
    {
      "cell_type": "markdown",
      "source": [
        "*(Your answer is here)*"
      ],
      "metadata": {
        "id": "nGiVBguoZqND"
      }
    },
    {
      "cell_type": "markdown",
      "source": [
        "Implement a function that calculates rotation matrix and apply it to the vector and the image to rotate them by $45^\\circ$."
      ],
      "metadata": {
        "id": "HU0WAPT9jZJy"
      }
    },
    {
      "cell_type": "code",
      "metadata": {
        "id": "fD0kYlv_PTqz"
      },
      "source": [
        "# Create rotation matrix\n",
        "\n",
        "def get_rotation_matrix(phi):\n",
        "  ##### YOUR CODE STARTS #####\n",
        "  ...\n",
        "  ##### YOUR CODE ENDS ##### \n",
        "  return transformation_matrix\n",
        "\n",
        "phi = 45\n",
        "M = get_rotation_matrix(phi)\n",
        "print(\"Rotation matrix is\")\n",
        "print(M)"
      ],
      "execution_count": null,
      "outputs": []
    },
    {
      "cell_type": "markdown",
      "source": [
        "Firstly we'll apply rotation to the vector. Let's check what our vector looks like now:"
      ],
      "metadata": {
        "id": "4CAE-dbmdhfi"
      }
    },
    {
      "cell_type": "code",
      "source": [
        "A = np.array([0, 0])\n",
        "B1 = np.array([1.5, 1.5])\n",
        "\n",
        "ax = plt.axes()\n",
        "\n",
        "ax.arrow(A[0], A[1], B1[0], B1[1], head_width=0.2, head_length=0.2)\n",
        "plt.ylim(-3,3)\n",
        "plt.xlim(-3,3)\n",
        "\n",
        "ax.set_axisbelow(True)\n",
        "plt.grid(color='gray', linestyle='dashed')\n",
        "plt.gca().set_aspect('equal', adjustable='box')\n",
        "\n",
        "plt.show()"
      ],
      "metadata": {
        "id": "6-JTL2HOdc2L"
      },
      "execution_count": null,
      "outputs": []
    },
    {
      "cell_type": "code",
      "source": [
        "# Apply rotation to the vector AB1 to achieve vector AB2\n",
        "\n",
        "##### YOUR CODE STARTS #####\n",
        "A = ...\n",
        "B1 = np.array([1.5, 1.5])\n",
        "B2 = ...\n",
        "##### YOUR CODE ENDS #####\n",
        "\n",
        "ax = plt.axes()\n",
        "\n",
        "ax.arrow(A[0], A[1], B1[0], B1[1], head_width=0.2, head_length=0.2)\n",
        "ax.arrow(A[0], A[1], B2[0], B2[1], head_width=0.2, head_length=0.2, color='green')\n",
        "plt.ylim(-3,3)\n",
        "plt.xlim(-3,3)\n",
        "\n",
        "ax.set_axisbelow(True)\n",
        "plt.grid(color='gray', linestyle='dashed')\n",
        "plt.gca().set_aspect('equal', adjustable='box')\n",
        "\n",
        "plt.show()"
      ],
      "metadata": {
        "id": "1WJKQv5TgjJM"
      },
      "execution_count": null,
      "outputs": []
    },
    {
      "cell_type": "markdown",
      "source": [
        "You can also rotate the images! Check how you can do it below:"
      ],
      "metadata": {
        "id": "f74mFe_dg52K"
      }
    },
    {
      "cell_type": "code",
      "metadata": {
        "id": "I7PXI0T4QtCz"
      },
      "source": [
        "##### YOUR CODE STARTS #####\n",
        "rotated = cv.warpAffine(..., ..., (500, 500),  flags = cv.INTER_LINEAR, borderMode = cv.BORDER_CONSTANT)\n",
        "##### YOUR CODE ENDS #####\n",
        "\n",
        "cv2_imshow(rotated)"
      ],
      "execution_count": null,
      "outputs": []
    },
    {
      "cell_type": "markdown",
      "metadata": {
        "id": "ZJGgBui_Arum"
      },
      "source": [
        "### 1.3 Scaling matrix\n",
        "\n",
        "Scaling is a tranformation that enlarges or diminishes objects by a factor. For scaling in 2D space a factor can be represented as a vector $(x_s, y_s)$ where $x_s$ and $y_s$ are scaling factors for each respective axis (they don't have to be equal). On the picture v' represents vector v scaled by a factor (0.5, 1) and v'' - by (0.5, 0.5).\n",
        "![Image 2.png](data:image/png;base64,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)"
      ]
    },
    {
      "cell_type": "markdown",
      "source": [
        "Derive a general form for a scaling matrix and apply scaling by a factor of (1, 0.5) to the vector and the image."
      ],
      "metadata": {
        "id": "DrOkRTdwj-KO"
      }
    },
    {
      "cell_type": "markdown",
      "source": [
        "*(Your answer is here)*"
      ],
      "metadata": {
        "id": "2A8_koLXrucV"
      }
    },
    {
      "cell_type": "code",
      "metadata": {
        "id": "LDNnmozXAyqH"
      },
      "source": [
        "##### YOUR CODE STARTS #####\n",
        "def get_scaling_matrix(scale_factor_x, scale_factor_y):\n",
        "  return ...\n",
        "\n",
        "M2 = ...\n",
        "\n",
        "##### YOUR CODE ENDS #####\n",
        "print(\"Scaling matrix is\")\n",
        "print(M2)"
      ],
      "execution_count": null,
      "outputs": []
    },
    {
      "cell_type": "markdown",
      "source": [
        "Apply scaling to the vector."
      ],
      "metadata": {
        "id": "NmztAJLQkwK5"
      }
    },
    {
      "cell_type": "code",
      "source": [
        "# Apply scaling to the vector AB1 to achieve vector AB2\n",
        "\n",
        "##### YOUR CODE STARTS #####\n",
        "A = ...\n",
        "B1 = np.array([2, 2])\n",
        "B2 = ...\n",
        "##### YOUR CODE ENDS #####\n",
        "\n",
        "ax = plt.axes()\n",
        "\n",
        "ax.arrow(A[0], A[1], B1[0], B1[1], head_width=0.2, head_length=0.2)\n",
        "ax.arrow(A[0], A[1], B2[0], B2[1], head_width=0.2, head_length=0.2, color='green')\n",
        "plt.ylim(-3,3)\n",
        "plt.xlim(-3,3)\n",
        "\n",
        "ax.set_axisbelow(True)\n",
        "plt.grid(color='gray', linestyle='dashed')\n",
        "plt.gca().set_aspect('equal', adjustable='box')\n",
        "\n",
        "plt.show()"
      ],
      "metadata": {
        "id": "o79iFs5pk5Gl"
      },
      "execution_count": null,
      "outputs": []
    },
    {
      "cell_type": "markdown",
      "source": [
        "Now apply scaling to the image:"
      ],
      "metadata": {
        "id": "Wm1zeEvKmTlm"
      }
    },
    {
      "cell_type": "code",
      "metadata": {
        "id": "QS6VukyXgasb"
      },
      "source": [
        "##### YOUR CODE STARTS #####\n",
        "scaled = ...\n",
        "##### YOUR CODE ENDS #####\n",
        "cv2_imshow(scaled)"
      ],
      "execution_count": null,
      "outputs": []
    },
    {
      "cell_type": "markdown",
      "metadata": {
        "id": "84toWwmrAza8"
      },
      "source": [
        "### 1.4 Shear matrix\n",
        "\n",
        "Horizontal shearing moves each point in a fixed direction by distance proportional to y-coordinate of the point. Shear map changes angles and lengthes of line segments."
      ]
    },
    {
      "cell_type": "markdown",
      "source": [
        "Build a shearing matrix; find a transformation matrix that moves point $(x, y)$ to $(x+1.5y, y)$ and apply it to the vector and the image. "
      ],
      "metadata": {
        "id": "lPKBqa_0mx9r"
      }
    },
    {
      "cell_type": "markdown",
      "source": [
        "*(Your answer is here)*"
      ],
      "metadata": {
        "id": "KSb8NFM2ryUR"
      }
    },
    {
      "cell_type": "code",
      "metadata": {
        "id": "Dh9b2bfKA2LE"
      },
      "source": [
        "##### YOUR CODE STARTS #####\n",
        "def get_horizontal_shear_matrix(factor):\n",
        "  return ...\n",
        "\n",
        "M3 = ...\n",
        "##### YOUR CODE ENDS #####\n",
        "print(\"Shearing matrix is\")\n",
        "print(M3)"
      ],
      "execution_count": null,
      "outputs": []
    },
    {
      "cell_type": "code",
      "source": [
        "# Apply shearing to the vector AB1 to achieve vector AB2\n",
        "\n",
        "##### YOUR CODE STARTS #####\n",
        "A = ...\n",
        "B1 = np.array([1, 1])\n",
        "B2 = ...\n",
        "##### YOUR CODE ENDS #####\n",
        "\n",
        "ax = plt.axes()\n",
        "\n",
        "ax.arrow(A[0], A[1], B1[0], B1[1], head_width=0.2, head_length=0.2)\n",
        "ax.arrow(A[0], A[1], B2[0], B2[1], head_width=0.2, head_length=0.2, color='green')\n",
        "plt.ylim(-3,3)\n",
        "plt.xlim(-3,3)\n",
        "\n",
        "ax.set_axisbelow(True)\n",
        "plt.grid(color='gray', linestyle='dashed')\n",
        "plt.gca().set_aspect('equal', adjustable='box')\n",
        "\n",
        "plt.show()"
      ],
      "metadata": {
        "id": "R1C8du7-nCpD"
      },
      "execution_count": null,
      "outputs": []
    },
    {
      "cell_type": "code",
      "source": [
        "##### YOUR CODE STARTS #####\n",
        "sheared = ...\n",
        "##### YOUR CODE ENDS #####\n",
        "cv2_imshow(sheared)"
      ],
      "metadata": {
        "id": "RbPMJxvRnB9F"
      },
      "execution_count": null,
      "outputs": []
    },
    {
      "cell_type": "markdown",
      "metadata": {
        "id": "YhRc2r-mA3Jh"
      },
      "source": [
        "### 1.5 Translation matrix\n",
        "\n",
        "Translation is a transformation that moves every point of a figure by fixed distance.\n",
        "\n",
        "\n",
        "![Image 3.png](data:image/png;base64,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)"
      ]
    },
    {
      "cell_type": "markdown",
      "source": [
        "Build a translation matrix; implement a function that produces translation matrix and apply to the vector and to the image translation by (20, 25)."
      ],
      "metadata": {
        "id": "YqtNveE7nmCm"
      }
    },
    {
      "cell_type": "markdown",
      "source": [
        "*(Your answer is here)*"
      ],
      "metadata": {
        "id": "jhFCp68crzxt"
      }
    },
    {
      "cell_type": "code",
      "metadata": {
        "id": "y2k0f6IuA6Yb"
      },
      "source": [
        "##### YOUR CODE STARTS #####\n",
        "def get_translation_matrix(translation_factor_x, translation_factor_y):\n",
        "  return ...\n",
        "\n",
        "M4 = ...\n",
        "##### YOUR CODE ENDS #####\n",
        "print(\"Translation matrix is\")\n",
        "print(M4)"
      ],
      "execution_count": null,
      "outputs": []
    },
    {
      "cell_type": "code",
      "source": [
        "# Apply translation to the vector A1B1 to achieve vector A2B2\n",
        "\n",
        "##### YOUR CODE STARTS #####\n",
        "A1 = np.array([0, 0])\n",
        "B1 = np.array([10, 10])\n",
        "A2 = ...\n",
        "B2 = ...\n",
        "##### YOUR CODE ENDS #####\n",
        "\n",
        "ax = plt.axes()\n",
        "\n",
        "ax.arrow(A1[0], A1[1], B1[0], B1[1], head_width=2, head_length=2)\n",
        "ax.arrow(A2[0], A2[1], B2[0]-A2[0], B2[1]-A2[1], head_width=2, head_length=2, color='green')\n",
        "plt.ylim(0,50)\n",
        "plt.xlim(0,50)\n",
        "\n",
        "ax.set_axisbelow(True)\n",
        "plt.grid(color='gray', linestyle='dashed')\n",
        "plt.gca().set_aspect('equal', adjustable='box')\n",
        "\n",
        "plt.show()"
      ],
      "metadata": {
        "id": "Xwq_xg6yn2o2"
      },
      "execution_count": null,
      "outputs": []
    },
    {
      "cell_type": "code",
      "source": [
        "##### YOUR CODE STARTS #####\n",
        "translated = ...\n",
        "##### YOUR CODE ENDS #####\n",
        "cv2_imshow(translated)"
      ],
      "metadata": {
        "id": "x9b-oBXkp8P7"
      },
      "execution_count": null,
      "outputs": []
    },
    {
      "cell_type": "markdown",
      "metadata": {
        "id": "KnNUbfQsccm9"
      },
      "source": [
        "### 1.6 Mirror symmetry \n",
        "Vertical mirror symmetry maps coordinates $(x, y)$ to $(-x,y)$.\n",
        "\n",
        "![Image 4.png](data:image/png;base64,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)"
      ]
    },
    {
      "cell_type": "markdown",
      "source": [
        "Build transformation matrix that represents vertical mirror symmetry; implement mirroring matrix in a function."
      ],
      "metadata": {
        "id": "bM_h24LVqKno"
      }
    },
    {
      "cell_type": "markdown",
      "source": [
        "*(Your answer is here)*"
      ],
      "metadata": {
        "id": "HCu-rtcmr1Qa"
      }
    },
    {
      "cell_type": "code",
      "metadata": {
        "id": "aa0gF7njeYgU"
      },
      "source": [
        "##### YOUR CODE STARTS #####\n",
        "def get_horizontal_mirror_marix():\n",
        "  return ...\n",
        "\n",
        "M5 = ...\n",
        "##### YOUR CODE ENDS #####\n",
        "print(\"Mirroring matrix is\")\n",
        "print(M5)"
      ],
      "execution_count": null,
      "outputs": []
    },
    {
      "cell_type": "code",
      "source": [
        "# Apply mirroring to the vector AB1 to achieve vector AB2\n",
        "\n",
        "##### YOUR CODE STARTS #####\n",
        "A = ...\n",
        "B1 = np.array([1, 1])\n",
        "B2 = ...\n",
        "##### YOUR CODE ENDS #####\n",
        "\n",
        "ax = plt.axes()\n",
        "\n",
        "ax.arrow(A[0], A[1], B1[0], B1[1], head_width=0.2, head_length=0.2)\n",
        "ax.arrow(A[0], A[1], B2[0], B2[1], head_width=0.2, head_length=0.2, color='green')\n",
        "plt.ylim(-3,3)\n",
        "plt.xlim(-3,3)\n",
        "\n",
        "ax.set_axisbelow(True)\n",
        "plt.grid(color='gray', linestyle='dashed')\n",
        "plt.gca().set_aspect('equal', adjustable='box')\n",
        "\n",
        "plt.show()"
      ],
      "metadata": {
        "id": "JvP0fkICqYIF"
      },
      "execution_count": null,
      "outputs": []
    },
    {
      "cell_type": "code",
      "source": [
        "##### YOUR CODE STARTS #####\n",
        "mirrored = ...\n",
        "##### YOUR CODE ENDS #####\n",
        "cv2_imshow(mirrored)"
      ],
      "metadata": {
        "id": "62zYpgprqxCI"
      },
      "execution_count": null,
      "outputs": []
    },
    {
      "cell_type": "markdown",
      "source": [
        "## 2."
      ],
      "metadata": {
        "id": "2Sg9FKPErAQ7"
      }
    },
    {
      "cell_type": "markdown",
      "source": [
        "### 2.1 Perspective shift matrix"
      ],
      "metadata": {
        "id": "oBUv2j6jrRZk"
      }
    },
    {
      "cell_type": "markdown",
      "source": [
        "You will need to use img2.jpg for this task. Load and resize it in the similar manner as with img1.\n",
        "\n",
        "The main goal of perspective transformation (or perspective rectification) is to synthesize a perspective-free view of an object given a photo taken at an angle.   "
      ],
      "metadata": {
        "id": "h9ujOrXvrGJQ"
      }
    },
    {
      "cell_type": "markdown",
      "source": [
        "![Untitled Diagram.jpg](data:image/jpeg;base64,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)"
      ],
      "metadata": {
        "id": "l_XWXGnfrZRz"
      }
    },
    {
      "cell_type": "markdown",
      "source": [
        "As you see on the picture above, the initial picture has a standard basis of red vectors, but we want to transform all of the vectors in the picture so that the blue vectors will become their new basis."
      ],
      "metadata": {
        "id": "0EqHzOCzrgKs"
      }
    },
    {
      "cell_type": "markdown",
      "source": [
        "To find this transformation matrix, you need 4 points on the input image and corresponding points on the output image (3 of these points should not be colinear). Transformation matrix is a 3 by 3 matrix that satisfies the following equation, where ($x_i$, $y_i$) is the source vector and ($u_i$, $v_i$) is  the destination vector. \n",
        "\n",
        "$u_i = \\dfrac{c_{00}*x_i + c_{01}*y_i + c_{02}}{ c_{20}*x_i + c_{21}*y_i + c_{22}}$\n",
        "\n",
        "$v_i = \\dfrac{c_{10}*x_i + c_{11}*y_i + c_{12}}{c_{20}*x_i + c_{21}*y_i + c_{22}}$\n",
        "\n",
        "Find coefficients $c_{ij}$ via solving linear system containing source and destination coordinates and 9 'c' coefficients with numpy methods and apply it to an image so that the sign is clearly visible. Explain how the system was constructed.\n",
        "\n",
        "(Hint: $c_{22} = 1$)"
      ],
      "metadata": {
        "id": "ekIYivwMriN5"
      }
    },
    {
      "cell_type": "markdown",
      "source": [
        "*(Your answer is here)*"
      ],
      "metadata": {
        "id": "cftc0ekWsgA-"
      }
    },
    {
      "cell_type": "code",
      "source": [
        "##### YOUR CODE STARTS #####\n",
        "img2_path = ...\n",
        "##### YOUR CODE ENDS #####\n",
        "image2 = cv.imread(img2_path)\n",
        "cv2_imshow(image2)"
      ],
      "metadata": {
        "id": "RSAO1OGisj3w"
      },
      "execution_count": null,
      "outputs": []
    },
    {
      "cell_type": "code",
      "source": [
        "##### YOUR CODE STARTS #####\n",
        "def get_perspective_transform_matrix(source, destination):\n",
        "  ...\n",
        "  return ...\n",
        "\n",
        "rows,cols,ch = image2.shape\n",
        "\n",
        "source_points = np.float32([...])\n",
        "destination_points = np.float32([...])\n",
        "\n",
        "perspective_shift_m = get_perspective_transform_matrix(source_points, destination_points)\n",
        "\n",
        "transformed = cv.warpPerspective(...)\n",
        "cv2_imshow(transformed)\n",
        "##### YOUR CODE ENDS #####"
      ],
      "metadata": {
        "id": "Dg5bZpfGrlZq"
      },
      "execution_count": null,
      "outputs": []
    },
    {
      "cell_type": "markdown",
      "source": [
        "### 2.2 Composition of transformations"
      ],
      "metadata": {
        "id": "qjRBDhdju60o"
      }
    },
    {
      "cell_type": "markdown",
      "source": [
        "Apply the following transformations in specified order to the original image  and show the results side-by-side.\n",
        "\n",
        "1) Scaling by $(1.5, 2)$, rotation by $18^\\circ$ and translation by $(10, 15)$.  \n",
        "2) Translation by $(10, 15)$, scaling by $(1.5, 2)$, rotation by $18^\\circ$."
      ],
      "metadata": {
        "id": "MPbbdgXBu-3U"
      }
    },
    {
      "cell_type": "code",
      "source": [
        "print(\"---------------------------\")\n",
        "print(\"Scaling by  (1.5,2) , rotation by  18∘  and translation by  (10,15)\")\n",
        "print(\"---------------------------\")\n",
        "\n",
        "##### YOUR CODE STARTS #####\n",
        "\n",
        "##### YOUR CODE ENDS #####\n",
        "\n",
        "print(\"---------------------------\")\n",
        "print(\"Translation by  (10,15) , scaling by  (1.5,2) , rotation by  18∘\")\n",
        "print(\"---------------------------\")\n",
        "\n",
        "##### YOUR CODE STARTS #####\n",
        "\n",
        "##### YOUR CODE ENDS #####"
      ],
      "metadata": {
        "id": "xp2h15UfurCZ"
      },
      "execution_count": null,
      "outputs": []
    },
    {
      "cell_type": "markdown",
      "source": [
        "Is result the same? Is it possible to obtain same/different result changing the order of transformations? Which conditions should be met?"
      ],
      "metadata": {
        "id": "cDQ2B9o2vC9d"
      }
    },
    {
      "cell_type": "markdown",
      "source": [
        "*(Your answer is here)*"
      ],
      "metadata": {
        "id": "uqzVnPvPvRB4"
      }
    },
    {
      "cell_type": "markdown",
      "source": [
        "## Summary"
      ],
      "metadata": {
        "id": "h0QMdAr5vWOB"
      }
    },
    {
      "cell_type": "markdown",
      "source": [
        "To summarize everything you have learnt in this lab assignment, answer the questions below."
      ],
      "metadata": {
        "id": "WNo3J56OvdEK"
      }
    },
    {
      "cell_type": "markdown",
      "source": [
        "### What is a transformation matrix?"
      ],
      "metadata": {
        "id": "CkzQDtgNvd0z"
      }
    },
    {
      "cell_type": "markdown",
      "source": [
        "*(Your answer is here)*"
      ],
      "metadata": {
        "id": "yTCFbbaNvirr"
      }
    },
    {
      "cell_type": "markdown",
      "source": [
        "### How its shape and values affect the resulting image? What is a shape of a typical transformation matrix that is applied to images, what affects it shape?"
      ],
      "metadata": {
        "id": "Rsd7eYWyvlVE"
      }
    },
    {
      "cell_type": "markdown",
      "source": [
        "*(Your answer is here)*"
      ],
      "metadata": {
        "id": "eSKNiTHKvo8V"
      }
    },
    {
      "cell_type": "markdown",
      "source": [
        "### What can be a result of composition of transformations?"
      ],
      "metadata": {
        "id": "SivNL58pvqEe"
      }
    },
    {
      "cell_type": "markdown",
      "source": [
        "*(Your answer is here)*"
      ],
      "metadata": {
        "id": "0A5CEf6kvsoW"
      }
    },
    {
      "cell_type": "markdown",
      "source": [
        "### What is a perspective shift transformation in terms of geometry?"
      ],
      "metadata": {
        "id": "s4Hgv7hivuOK"
      }
    },
    {
      "cell_type": "markdown",
      "source": [
        "*(Your answer is here)*"
      ],
      "metadata": {
        "id": "D1f2C9zevwn_"
      }
    }
  ]
}